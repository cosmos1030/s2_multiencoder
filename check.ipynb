{
 "cells": [
  {
   "cell_type": "code",
   "execution_count": 1,
   "id": "c7bfd33b-6b83-42d5-9b44-4201f66ff27e",
   "metadata": {
    "execution": {
     "iopub.execute_input": "2025-02-02T07:15:29.166366Z",
     "iopub.status.busy": "2025-02-02T07:15:29.166080Z",
     "iopub.status.idle": "2025-02-02T07:15:38.192030Z",
     "shell.execute_reply": "2025-02-02T07:15:38.191276Z",
     "shell.execute_reply.started": "2025-02-02T07:15:29.166343Z"
    }
   },
   "outputs": [
    {
     "name": "stderr",
     "output_type": "stream",
     "text": [
      "2025-02-02 07:15:32.454438: E external/local_xla/xla/stream_executor/cuda/cuda_dnn.cc:9261] Unable to register cuDNN factory: Attempting to register factory for plugin cuDNN when one has already been registered\n",
      "2025-02-02 07:15:32.454504: E external/local_xla/xla/stream_executor/cuda/cuda_fft.cc:607] Unable to register cuFFT factory: Attempting to register factory for plugin cuFFT when one has already been registered\n",
      "2025-02-02 07:15:32.455983: E external/local_xla/xla/stream_executor/cuda/cuda_blas.cc:1515] Unable to register cuBLAS factory: Attempting to register factory for plugin cuBLAS when one has already been registered\n",
      "2025-02-02 07:15:32.464837: I tensorflow/core/platform/cpu_feature_guard.cc:182] This TensorFlow binary is optimized to use available CPU instructions in performance-critical operations.\n",
      "To enable the following instructions: AVX2 FMA, in other operations, rebuild TensorFlow with the appropriate compiler flags.\n",
      "2025-02-02 07:15:33.794322: W tensorflow/compiler/tf2tensorrt/utils/py_utils.cc:38] TF-TRT Warning: Could not find TensorRT\n",
      "Could not find image processor class in the image processor config or the model config. Loading based on pattern matching with the model's feature extractor configuration.\n"
     ]
    },
    {
     "name": "stdout",
     "output_type": "stream",
     "text": [
      "CLIP last_hidden_state shape: torch.Size([1, 50, 768])\n",
      "CLIP pooler_output shape: torch.Size([1, 768])\n"
     ]
    }
   ],
   "source": [
    "import torch\n",
    "from transformers import CLIPVisionModel, AutoImageProcessor\n",
    "\n",
    "clip_model_name = \"openai/clip-vit-base-patch32\"\n",
    "clip_model = CLIPVisionModel.from_pretrained(clip_model_name)\n",
    "clip_processor = AutoImageProcessor.from_pretrained(clip_model_name)\n",
    "\n",
    "# 임의의 입력 이미지 (3, 224, 224)\n",
    "dummy_img = torch.randn(1, 3, 224, 224)\n",
    "\n",
    "# CLIP 모델 forward 실행\n",
    "with torch.no_grad():\n",
    "    clip_output = clip_model(pixel_values=dummy_img)\n",
    "\n",
    "# 출력 차원 확인\n",
    "print(f\"CLIP last_hidden_state shape: {clip_output.last_hidden_state.shape}\")  # (1, 50, 768) 예상\n",
    "print(f\"CLIP pooler_output shape: {clip_output.pooler_output.shape}\")  # (1, 768)\n"
   ]
  },
  {
   "cell_type": "code",
   "execution_count": 2,
   "id": "8ee10fed-1627-4037-b9c8-dd2d1d584fdb",
   "metadata": {
    "execution": {
     "iopub.execute_input": "2025-02-02T07:16:16.564104Z",
     "iopub.status.busy": "2025-02-02T07:16:16.563576Z",
     "iopub.status.idle": "2025-02-02T07:16:16.571959Z",
     "shell.execute_reply": "2025-02-02T07:16:16.571228Z",
     "shell.execute_reply.started": "2025-02-02T07:16:16.564078Z"
    }
   },
   "outputs": [
    {
     "data": {
      "text/plain": [
       "torch.Size([1, 49, 768])"
      ]
     },
     "execution_count": 2,
     "metadata": {},
     "output_type": "execute_result"
    }
   ],
   "source": [
    "clip_output.last_hidden_state[:,1:,:].shape"
   ]
  },
  {
   "cell_type": "code",
   "execution_count": 3,
   "id": "0bba741f-8f13-4f83-81c7-2de4928ddcc0",
   "metadata": {
    "execution": {
     "iopub.execute_input": "2025-02-02T07:16:51.779513Z",
     "iopub.status.busy": "2025-02-02T07:16:51.779209Z",
     "iopub.status.idle": "2025-02-02T07:16:54.317497Z",
     "shell.execute_reply": "2025-02-02T07:16:54.316707Z",
     "shell.execute_reply.started": "2025-02-02T07:16:51.779488Z"
    }
   },
   "outputs": [
    {
     "name": "stdout",
     "output_type": "stream",
     "text": [
      "DINO last_hidden_state shape: torch.Size([1, 257, 768])\n",
      "DINO pooler_output shape: torch.Size([1, 768])\n"
     ]
    }
   ],
   "source": [
    "import torch\n",
    "from transformers import Dinov2Model, AutoImageProcessor\n",
    "\n",
    "dino_model_name = \"facebook/dinov2-base\"\n",
    "dino_model = Dinov2Model.from_pretrained(dino_model_name)\n",
    "dino_processor = AutoImageProcessor.from_pretrained(dino_model_name)\n",
    "\n",
    "# 임의의 입력 이미지 (3, 224, 224)\n",
    "dummy_img = torch.randn(1, 3, 224, 224)\n",
    "\n",
    "# DINO forward 실행\n",
    "with torch.no_grad():\n",
    "    dino_output = dino_model(pixel_values=dummy_img)\n",
    "\n",
    "# 출력 차원 확인\n",
    "print(f\"DINO last_hidden_state shape: {dino_output.last_hidden_state.shape}\")  # (1, 257, 768) 예상\n",
    "print(f\"DINO pooler_output shape: {dino_output.pooler_output.shape}\")  # (1, 768)\n"
   ]
  }
 ],
 "metadata": {
  "kernelspec": {
   "display_name": "Python 3 (ipykernel)",
   "language": "python",
   "name": "python3"
  },
  "language_info": {
   "codemirror_mode": {
    "name": "ipython",
    "version": 3
   },
   "file_extension": ".py",
   "mimetype": "text/x-python",
   "name": "python",
   "nbconvert_exporter": "python",
   "pygments_lexer": "ipython3",
   "version": "3.11.7"
  }
 },
 "nbformat": 4,
 "nbformat_minor": 5
}
